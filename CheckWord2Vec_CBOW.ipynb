{
  "nbformat": 4,
  "nbformat_minor": 0,
  "metadata": {
    "colab": {
      "name": "CheckWord2Vec.ipynb",
      "version": "0.3.2",
      "provenance": [],
      "collapsed_sections": []
    },
    "kernelspec": {
      "name": "python3",
      "display_name": "Python 3"
    }
  },
  "cells": [
    {
      "metadata": {
        "id": "NT-IXgBqX6ZB",
        "colab_type": "text"
      },
      "cell_type": "markdown",
      "source": [
        "This code is to check pretrained Word2Vec CBOW.\n",
        "\n",
        "We have pretrained word vectors using CBOW of Word2Vec and put them on the following two links. It has 1234276 unique words.\n",
        "\n",
        "The word vectors are pretrained with:\n",
        "\n",
        "vector_dimentions=300, sliding_window_size=5, min_count=2, iteration=100, hs=1\n",
        "\n",
        "You can run this code on google colab or on your pc. To run on google colap: \n",
        "\n",
        "Download two files (w2v_cbow.wv and w2v_cbow.wv.vectors.npy) from the following links:\n",
        "1. https://drive.google.com/file/d/1SaGsHk0d-D1ncg9z9s-mf88JYxb3dLWK/view?usp=sharing\n",
        "2. https://drive.google.com/file/d/1jRxspZT_89IeBhG9stC4gM1MQ0Kd22Z9/view?usp=sharing\n",
        "\n",
        "Upload the two files (w2v_cbow.wv and w2v_cbow.wv.vectors.npy) to your google drive\n",
        "\n",
        "Upload CheckWord2Vec.ipynb to your google drive and run CheckWord2Vec.ipynb"
      ]
    },
    {
      "metadata": {
        "id": "McUewuUTY5Mq",
        "colab_type": "code",
        "colab": {}
      },
      "cell_type": "code",
      "source": [
        "from google.colab import drive\n",
        "drive.mount('/content/gdrive')"
      ],
      "execution_count": 0,
      "outputs": []
    },
    {
      "metadata": {
        "id": "k3SfrXm1kYLA",
        "colab_type": "code",
        "colab": {}
      },
      "cell_type": "code",
      "source": [
        "cd /content/gdrive/'My Drive'"
      ],
      "execution_count": 0,
      "outputs": []
    },
    {
      "metadata": {
        "id": "rH7uSWqHf2IX",
        "colab_type": "code",
        "colab": {}
      },
      "cell_type": "code",
      "source": [
        "from gensim.models import KeyedVectors\n",
        "wv = KeyedVectors.load(\"w2v_cbow.wv\", mmap='r')"
      ],
      "execution_count": 0,
      "outputs": []
    },
    {
      "metadata": {
        "id": "PbfcCv-WhoKg",
        "colab_type": "code",
        "colab": {}
      },
      "cell_type": "code",
      "source": [
        "wv.most_similar(['আসি'])"
      ],
      "execution_count": 0,
      "outputs": []
    },
    {
      "metadata": {
        "id": "Bbeqx1JwiFek",
        "colab_type": "code",
        "colab": {}
      },
      "cell_type": "code",
      "source": [
        "wv.most_similar(['নেতা'])"
      ],
      "execution_count": 0,
      "outputs": []
    }
  ]
}
